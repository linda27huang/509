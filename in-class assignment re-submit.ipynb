{
 "cells": [
  {
   "cell_type": "markdown",
   "id": "c03d0119",
   "metadata": {},
   "source": [
    "# Here is a body mass index calculator\n",
    "## variable: height/weight result: body mass index"
   ]
  },
  {
   "cell_type": "code",
   "execution_count": null,
   "id": "1ce1602b",
   "metadata": {},
   "outputs": [],
   "source": [
    "height = input (\"please input your height(m)\")\n",
    "weight = input (\"please input your weight(kg)\")\n",
    "height = float(height)\n",
    "weight = float(weight)\n",
    "body = weight/(height**2)\n",
    "body = round(body, 2)\n",
    "print(\"your body mass index is:\", body)"
   ]
  },
  {
   "cell_type": "code",
   "execution_count": null,
   "id": "edab58d4",
   "metadata": {},
   "outputs": [],
   "source": []
  }
 ],
 "metadata": {
  "kernelspec": {
   "display_name": "Python 3 (ipykernel)",
   "language": "python",
   "name": "python3"
  },
  "language_info": {
   "codemirror_mode": {
    "name": "ipython",
    "version": 3
   },
   "file_extension": ".py",
   "mimetype": "text/x-python",
   "name": "python",
   "nbconvert_exporter": "python",
   "pygments_lexer": "ipython3",
   "version": "3.8.8"
  }
 },
 "nbformat": 4,
 "nbformat_minor": 5
}

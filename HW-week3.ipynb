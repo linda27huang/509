{
 "cells": [
  {
   "cell_type": "markdown",
   "id": "cd5cb789",
   "metadata": {},
   "source": [
    "#  Find the Factorial of a given number"
   ]
  },
  {
   "cell_type": "code",
   "execution_count": 5,
   "id": "27cbb403",
   "metadata": {},
   "outputs": [
    {
     "name": "stdout",
     "output_type": "stream",
     "text": [
      "Input a number to compute the Factiorial : 5\n",
      "Factorial of 5 is 120\n"
     ]
    }
   ],
   "source": [
    "def factorial(n):\n",
    "    return 1 if (n==1 or n==0) else n * factorial(n - 1);\n",
    "num = int(input(\"Input a number to compute the Factiorial : \"));\n",
    "print(\"Factorial of\",num,\"is\",\n",
    "factorial(num))"
   ]
  },
  {
   "cell_type": "markdown",
   "id": "6c97d24f",
   "metadata": {},
   "source": [
    "# Implement a custom add function given an increment and a decrement function"
   ]
  },
  {
   "cell_type": "code",
   "execution_count": 23,
   "id": "0dde6185",
   "metadata": {},
   "outputs": [
    {
     "data": {
      "text/plain": [
       "15"
      ]
     },
     "execution_count": 23,
     "metadata": {},
     "output_type": "execute_result"
    }
   ],
   "source": [
    "def inc(x: int) -> int:\n",
    "    if not isinstance(x, int):\n",
    "        raise TypeError(\"Given number is not an integer.\")\n",
    "    return x + 1\n",
    "\n",
    "\n",
    "def dec(x: int) -> int:\n",
    "    if not isinstance(x, int):\n",
    "        raise TypeError(\"Given number is not an integer.\")\n",
    "    return x - 1\n",
    "\n",
    "\n",
    "def add(x: int, y: int) -> int:\n",
    "    if not isinstance(x, int) or not isinstance(y, int):\n",
    "        raise TypeError(\"Given input is not an integer.\")\n",
    "    if x < 0 or y < 0:\n",
    "        raise ValueError(\"One or more inputs are less than 0.\")\n",
    "\n",
    "def add(a, b):\n",
    "    assert a >= 0\n",
    "    assert b >= 0\n",
    "    if a == 0:\n",
    "        return b\n",
    "    return add(dec(a), inc(b))\n",
    "\n",
    "add(5,10)"
   ]
  },
  {
   "cell_type": "markdown",
   "id": "165b072d",
   "metadata": {},
   "source": [
    "# Determine if the given year is a leap year"
   ]
  },
  {
   "cell_type": "code",
   "execution_count": 24,
   "id": "a4540482",
   "metadata": {},
   "outputs": [
    {
     "name": "stdout",
     "output_type": "stream",
     "text": [
      "Input the year to determine if it is a leap year : 2022\n",
      "Not a Leap Year\n"
     ]
    }
   ],
   "source": [
    "def checkyear(year):\n",
    "    return (((year % 4 == 0) and (year % 100 != 0)) or (year % 400 == 0));\n",
    "year = int(input(\"Input the year to determine if it is a leap year : \"));\n",
    "if(checkyear(year)):\n",
    "    print(\"Leap Year\")\n",
    "else:\n",
    "    print(\"Not a Leap Year\")"
   ]
  },
  {
   "cell_type": "markdown",
   "id": "c545b7f6",
   "metadata": {},
   "source": [
    "# Determine n'th Fibonacci's number"
   ]
  },
  {
   "cell_type": "code",
   "execution_count": 14,
   "id": "38ea0b58",
   "metadata": {},
   "outputs": [
    {
     "name": "stdout",
     "output_type": "stream",
     "text": [
      "Input a number 'n' to determine n'th Fibonacci's number : 10\n",
      "10 th Fibonacci's number is 34\n"
     ]
    }
   ],
   "source": [
    "def Fibonacci(n):\n",
    "    if n<= 0:\n",
    "        print(\"Incorrect input\")\n",
    "    elif n == 1:\n",
    "        return 0\n",
    "    elif n == 2:\n",
    "        return 1\n",
    "    else:\n",
    "        return Fibonacci(n-1)+Fibonacci(n-2)\n",
    "    \n",
    "n = int(input(\"Input a number 'n' to determine n'th Fibonacci's number : \"));\n",
    "print(n,\"th Fibonacci's number is\",\n",
    "Fibonacci(n))"
   ]
  },
  {
   "cell_type": "code",
   "execution_count": null,
   "id": "58dd6ba0",
   "metadata": {},
   "outputs": [],
   "source": []
  }
 ],
 "metadata": {
  "kernelspec": {
   "display_name": "Python 3 (ipykernel)",
   "language": "python",
   "name": "python3"
  },
  "language_info": {
   "codemirror_mode": {
    "name": "ipython",
    "version": 3
   },
   "file_extension": ".py",
   "mimetype": "text/x-python",
   "name": "python",
   "nbconvert_exporter": "python",
   "pygments_lexer": "ipython3",
   "version": "3.8.8"
  }
 },
 "nbformat": 4,
 "nbformat_minor": 5
}
